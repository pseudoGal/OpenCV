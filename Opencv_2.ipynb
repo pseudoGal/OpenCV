{
 "cells": [
  {
   "cell_type": "code",
   "execution_count": null,
   "metadata": {},
   "outputs": [],
   "source": [
    "import numpy as np\n",
    "import cv2\n",
    "import matplotlib.pyplot as plt"
   ]
  },
  {
   "cell_type": "code",
   "execution_count": null,
   "metadata": {},
   "outputs": [],
   "source": [
    "image = cv2.imread('/home/pratiksha/PycharmProjects/lena.jpg')"
   ]
  },
  {
   "cell_type": "code",
   "execution_count": null,
   "metadata": {},
   "outputs": [],
   "source": [
    "cv2.imshow(\"Output\",image)\n",
    "cv2.waitKey(0)"
   ]
  },
  {
   "cell_type": "code",
   "execution_count": null,
   "metadata": {},
   "outputs": [],
   "source": [
    "#video capture object\n",
    "cap = cv2.VideoCapture(\"Streets.mp4\")\n",
    "#video is squences of image, will while loop for that\n",
    "while True:\n",
    "    success,img = cap.read()\n",
    "    cv2.imshow(\"Video\",img)\n",
    "    if cv2.waitKey(1) & 0xFF ==ord('q'):\n",
    "        break"
   ]
  },
  {
   "cell_type": "code",
   "execution_count": null,
   "metadata": {},
   "outputs": [],
   "source": [
    "#Using a Webcam\n",
    "import cv2\n",
    "\n",
    "cap = cv2.VideoCapture(0)\n",
    "#define webcam parameters,width,sizeof window\n",
    "cap.set(3,640)\n",
    "cap.set(4,480)\n",
    "#set the brightness\n",
    "cap.set(10,100)\n",
    "\n",
    "while True:\n",
    "    success,img = cap.read()\n",
    "    cv2.imshow(\"Video\",img)\n",
    "    if cv2.waitKey(1) & 0xff ==ord('q'):\n",
    "        break"
   ]
  },
  {
   "cell_type": "code",
   "execution_count": null,
   "metadata": {},
   "outputs": [],
   "source": [
    "#BAsics functions \n",
    "import cv2\n",
    "import numpy as np\n",
    "#we start with greyImages\n",
    "img = cv2.imread('lena.jpg')\n",
    "#define Kernel, kernel just a marix,we need to define its size\n",
    "kernel = np.ones((5,5),np.uint8)"
   ]
  },
  {
   "cell_type": "code",
   "execution_count": null,
   "metadata": {},
   "outputs": [],
   "source": [
    "#CVT will convert ur images into 250 different colors spaces,conventional channels BGR\n",
    "imgGray = cv2.cvtColor(img, cv2.COLOR_BGR2GRAY)\n",
    "#Blurr image\n",
    "imgBlur = cv2.GaussianBlur(imgGray,(7,7),0)\n",
    "#image Canny Edge detection\n",
    "imgCanny = cv2.Canny(img, 100,100)\n",
    "#Image  Dialation = making thick edges\n",
    "imaDialtation = cv2.dilate(imgCanny,kernel,iterations=1)\n",
    "#ooposite of dialation: here we make edeges thinner\n",
    "imgEroded = cv2.erode(imaDialtation,kernel,iterations=1)\n",
    "#Image CROPPING & resizing\n",
    "#imgCrop = cv2.\n",
    "#cv2.imshow(\"Gray Image\",imgGray)\n",
    "#cv2.imshow(\"Blur Image\",imgBlur)\n",
    "#cv2.imshow(\"Edge detector Image\",imgCanny)\n",
    "cv2.imshow(\"Image Dialation\",imaDialtation)\n",
    "cv2.imshow(\"Image Eroded\",imgEroded)\n",
    "#cv2.imshow(\"Crop Image\",)\n",
    "cv2.waitKey(0)"
   ]
  },
  {
   "cell_type": "code",
   "execution_count": null,
   "metadata": {},
   "outputs": [],
   "source": [
    "#IMage Cropping & Resizing\n",
    "\n",
    "import cv2\n",
    "img = cv2.imread(\"messi5.jpg\")\n",
    "#before performing chnages on it...know itss actual size\n",
    "print(img.shape)\n",
    "#Resize,(width, height)\n",
    "imgResize = cv2.resize(img,(1000,500))\n",
    "print(imgResize.shape)\n",
    "#Croped, (Height, width)\n",
    "imgCropped = img[0:200,200:500]\n",
    "cv2.imshow(\"Image\",img)\n",
    "#cv2.imshow(\"Resize Image\",imgResize)\n",
    "cv2.imshow(\"Image Cropped\",imgCropped)\n",
    "cv2.waitKey(0)"
   ]
  },
  {
   "cell_type": "markdown",
   "metadata": {},
   "source": [
    "### Drawing Shapes & Put Texts on images"
   ]
  },
  {
   "cell_type": "code",
   "execution_count": null,
   "metadata": {},
   "outputs": [],
   "source": [
    "import cv2\n",
    "import numpy as np\n",
    "import matplotlib.pyplot  as plt"
   ]
  },
  {
   "cell_type": "code",
   "execution_count": null,
   "metadata": {},
   "outputs": [],
   "source": [
    "#created a grey image, with 0's,which is Balck image of 512,512 dimentions\n",
    "#img = np.zeros((512,512))\n",
    "img = np.zeros((512,512,3),np.uint8)\n",
    "print(img.shape)\n",
    "# Make the color image,exmple i want blue imge then pixels will be(255,0,0)\n",
    "#img[:] =255,0,0 \n",
    "#try\n",
    "#mg[200,300,100:300]= 255,0,0\n",
    "# Drawing a Line\n",
    "#cv2.line(img,(0,0),(300,300),(0,255,0),3)\n",
    "cv2.line(img,(0,0),(img.shape[1],img.shape[0]),(0,255,0),3)\n",
    "cv2.rectangle(img,(0,0),(250,350),(0,0,255),2)\n",
    "#img = cv2.imread(\"messi5.jpg\")\n",
    "#fill the raectangle\n",
    "cv2.rectangle(img,(0,0),(250,350),(0,0,255),cv2.FILLED)\n",
    "#Create circles(size,radius,radius,color,thickiness)\n",
    "cv2.circle(img,(400,50),30,(255,255,0),5)\n",
    "#Putting text on images(,\"text to be written\",(start,end),font size,scale, color,thickiness)\n",
    "cv2.putText(img,\"OPENCVTEXT\",(200,200),cv2.FONT_HERSHEY_COMPLEX,1.5,(0,150,0),4)\n",
    "cv2.imshow(\"Image\",img)\n",
    "cv2.waitKey(0)"
   ]
  },
  {
   "cell_type": "markdown",
   "metadata": {},
   "source": [
    "### WARP Perspective"
   ]
  },
  {
   "cell_type": "code",
   "execution_count": null,
   "metadata": {},
   "outputs": [],
   "source": [
    "import cv2\n",
    "import numpy as np"
   ]
  },
  {
   "cell_type": "code",
   "execution_count": null,
   "metadata": {},
   "outputs": [],
   "source": [
    "#Vertical & Horizontal tacking of images \n",
    "img = cv2.imread(\"lena.jpg\")\n",
    "imgHor = np.hstack((img,img,img,img))\n",
    "imgVer = np.vstack((img,img,img))\n",
    "cv2.imshow(\"Horizontal\",imgHor)\n",
    "cv2.imshow(\"Vertical\",imgVer)\n",
    "cv2.waitKey(0)"
   ]
  },
  {
   "cell_type": "markdown",
   "metadata": {},
   "source": [
    "### COLOR detection"
   ]
  },
  {
   "cell_type": "code",
   "execution_count": null,
   "metadata": {},
   "outputs": [],
   "source": [
    "import cv2\n",
    "import numpy as np\n",
    "import matplotlib.pyplot as plt"
   ]
  },
  {
   "cell_type": "code",
   "execution_count": null,
   "metadata": {},
   "outputs": [],
   "source": [
    "path =\"/home/pratiksha/PycharmProjects/Leaves.jpg\"\n",
    "img = cv2.imread(path)\n",
    "imgHsv = cv2.cvtColor(img,cv2.COLOR_BGR2HSV)\n",
    "plt.figure(figsize=(20,20))\n",
    "plt.subplot(3, 2, 1)\n",
    "plt.title(\"Original\")\n",
    "plt.imshow(imgHsv)\n",
    "plt.show()\n",
    "#cv2.waitKey(0)"
   ]
  },
  {
   "cell_type": "code",
   "execution_count": null,
   "metadata": {},
   "outputs": [],
   "source": [
    "import cv2\n",
    "\n",
    "def empty(a):\n",
    "    pass\n",
    "\n",
    "path =\"/home/pratiksha/PycharmProjects/Leaves.jpg\"\n",
    "cv2.namedWindow(\"TrackBars\")\n",
    "cv2.resizeWindow(\"Tracked BArs\",640,240)\n",
    "cv2.createTrackbar(\"Hue Min\",\"TrackBars\",0,179,empty)\n",
    "\n",
    "img = cv2.imread(path)\n",
    "imgHsv = cv2.cvtColor(img,cv2.COLOR_BGR2HSV)\n",
    "\n",
    "cv2.imshow(\"Original\",img)\n",
    "#plt.figure(figsize=(20,20))\n",
    "#plt.subplot(3, 2, 1)\n",
    "#plt.title(\"Original\")\n",
    "cv2.imshow(\"HSV\",imgHsv)\n",
    "cv2.waitKey(0)\n"
   ]
  },
  {
   "cell_type": "code",
   "execution_count": null,
   "metadata": {},
   "outputs": [],
   "source": [
    "import cv2\n",
    "import numpy as np \n",
    "def empty(a):\n",
    "    pass\n",
    "\n",
    "path =\"/home/pratiksha/PycharmProjects/Leaves.jpg\"\n",
    "cv2.namedWindow(\"TrackBars\")\n",
    "cv2.resizeWindow(\"Tracked BArs\",640,240)\n",
    "#create 6 trac bars Hue,sat,\n",
    "cv2.createTrackbar(\"Hue Min\",\"TrackBars\",0,179,empty)\n",
    "cv2.createTrackbar(\"Hue Max\",\"TrackBars\",179,179,empty)\n",
    "cv2.createTrackbar(\"Sat Min\",\"TrackBars\",0,255,empty)\n",
    "cv2.createTrackbar(\"Sat Max\",\"TrackBars\",255,255,empty)\n",
    "cv2.createTrackbar(\"Val Min\",\"TrackBars\",0,255,empty)\n",
    "cv2.createTrackbar(\"Val Max\",\"TrackBars\",255,255,empty)\n",
    "\n",
    "img = cv2.imread(path)\n",
    "imgHsv = cv2.cvtColor(img,cv2.COLOR_BGR2HSV)\n",
    "\n",
    "#Changing values in real time\n",
    "while True:\n",
    "    img = cv2.imread(path)\n",
    "    imgHsv = cv2.cvtColor(img,cv2.COLOR_BGR2HSV)\n",
    "    h_min = cv2.getTrackbarPos(\"Hue Min\",\"TrackBars\")\n",
    "    h_max = cv2.getTrackbarPos(\"Hue Max\",\"TrackBars\")\n",
    "    s_min = cv2.getTrackbarPos(\"sat Min\",\"TrackBars\")\n",
    "    s_max = cv2.getTrackbarPos(\"sat Max\",\"TrackBars\")\n",
    "    v_min = cv2.getTrackbarPos(\"val Min\",\"TrackBars\")\n",
    "    v_max = cv2.getTrackbarPos(\"val Max\",\"TrackBars\")\n",
    "    print(h_min,h_max,s_min,s_max,v_min,v_max)\n",
    "    lower = np.array([h_min,s_min,v_min])\n",
    "    upper = np.array([h_max,s_max,v_max])\n",
    "    mask = cv2.inRange(imgHsv,lower,upper)\n",
    "\n",
    "    \n",
    "cv2.imshow(\"Original\",img)\n",
    "cv2.imshow(\"HSV\",imgHsv)\n",
    "cv2.imshow(\"Mask\",mask)\n",
    "\n",
    "cv2.waitKey(0)\n"
   ]
  },
  {
   "cell_type": "code",
   "execution_count": null,
   "metadata": {},
   "outputs": [],
   "source": []
  }
 ],
 "metadata": {
  "kernelspec": {
   "display_name": "Python 3",
   "language": "python",
   "name": "python3"
  },
  "language_info": {
   "codemirror_mode": {
    "name": "ipython",
    "version": 3
   },
   "file_extension": ".py",
   "mimetype": "text/x-python",
   "name": "python",
   "nbconvert_exporter": "python",
   "pygments_lexer": "ipython3",
   "version": "3.6.8"
  }
 },
 "nbformat": 4,
 "nbformat_minor": 2
}
